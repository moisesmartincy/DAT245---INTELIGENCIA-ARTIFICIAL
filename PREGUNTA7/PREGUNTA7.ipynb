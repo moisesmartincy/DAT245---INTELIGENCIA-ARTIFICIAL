{
  "nbformat": 4,
  "nbformat_minor": 0,
  "metadata": {
    "colab": {
      "provenance": []
    },
    "kernelspec": {
      "name": "python3",
      "display_name": "Python 3"
    },
    "language_info": {
      "name": "python"
    }
  },
  "cells": [
    {
      "cell_type": "markdown",
      "source": [
        "#PREGUNTA 7"
      ],
      "metadata": {
        "id": "eQc5m8UpigwW"
      }
    },
    {
      "cell_type": "markdown",
      "source": [
        "7.      Programe el anterior problema en Python con\n",
        "\n",
        "a.       El uso de DEAP\n",
        "\n",
        "b.      Sin el uso de DEAP"
      ],
      "metadata": {
        "id": "h5OP2yTDikKL"
      }
    },
    {
      "cell_type": "code",
      "source": [
        "!pip install deap"
      ],
      "metadata": {
        "colab": {
          "base_uri": "https://localhost:8080/"
        },
        "id": "R2bSe6OzjyoD",
        "outputId": "95bd97c5-a27f-4269-e00b-fa15028ee976"
      },
      "execution_count": 2,
      "outputs": [
        {
          "output_type": "stream",
          "name": "stdout",
          "text": [
            "Collecting deap\n",
            "  Downloading deap-1.4.1-cp310-cp310-manylinux_2_5_x86_64.manylinux1_x86_64.manylinux_2_17_x86_64.manylinux2014_x86_64.whl.metadata (13 kB)\n",
            "Requirement already satisfied: numpy in /usr/local/lib/python3.10/dist-packages (from deap) (1.26.4)\n",
            "Downloading deap-1.4.1-cp310-cp310-manylinux_2_5_x86_64.manylinux1_x86_64.manylinux_2_17_x86_64.manylinux2014_x86_64.whl (135 kB)\n",
            "\u001b[2K   \u001b[90m━━━━━━━━━━━━━━━━━━━━━━━━━━━━━━━━━━━━━━━━\u001b[0m \u001b[32m135.4/135.4 kB\u001b[0m \u001b[31m5.2 MB/s\u001b[0m eta \u001b[36m0:00:00\u001b[0m\n",
            "\u001b[?25hInstalling collected packages: deap\n",
            "Successfully installed deap-1.4.1\n"
          ]
        }
      ]
    },
    {
      "cell_type": "markdown",
      "source": [
        "a. El uso de DEAP"
      ],
      "metadata": {
        "id": "n4RnARPzrHKs"
      }
    },
    {
      "cell_type": "code",
      "source": [
        "import random\n",
        "from deap import base, creator, tools, algorithms\n",
        "import numpy as np\n",
        "\n",
        "# 1. Definir el problema de maximización con la función objetivo f(x) = (x^(2x)) - 1\n",
        "creator.create(\"FitnessMax\", base.Fitness, weights=(1.0,))\n",
        "creator.create(\"Individual\", list, fitness=creator.FitnessMax)\n",
        "\n",
        "# 2. Inicialización de individuos (población de números enteros aleatorios)\n",
        "def init_individual():\n",
        "    return [random.randint(0, 5)]  # Individuos entre 0 y 5\n",
        "\n",
        "toolbox = base.Toolbox()\n",
        "toolbox.register(\"individual\", tools.initIterate, creator.Individual, init_individual)\n",
        "toolbox.register(\"population\", tools.initRepeat, list, toolbox.individual)\n",
        "\n",
        "# 3. Definir la función objetivo f(x) = (x^(2x)) - 1\n",
        "def eval_function(individual):\n",
        "    x = individual[0]\n",
        "    # Asegurarse de que la función no cause desbordamientos numéricos\n",
        "    try:\n",
        "        result = (x**(2 * x)) - 1\n",
        "    except OverflowError:\n",
        "        result = float('inf')  # Penaliza el valor si hay un desbordamiento\n",
        "    return (result,)  # Devuelve una tupla con un único valor numérico\n",
        "\n",
        "# 4. Registrar las operaciones genéticas\n",
        "toolbox.register(\"evaluate\", eval_function)\n",
        "toolbox.register(\"mate\", tools.cxBlend, alpha=0.5)    # Operador de cruce (blend crossover)\n",
        "toolbox.register(\"mutate\", tools.mutGaussian, mu=0, sigma=1, indpb=0.2)  # Operador de mutación\n",
        "toolbox.register(\"select\", tools.selTournament, tournsize=3)  # Selección por torneo\n",
        "\n",
        "# 5. Algoritmo genético con al menos 3 generaciones\n",
        "def run_ga():\n",
        "    # Inicializar la población\n",
        "    population = toolbox.population(n=10)  # Población de 10 individuos\n",
        "\n",
        "    # Configurar registros para guardar estadísticas\n",
        "    stats = tools.Statistics(lambda ind: ind.fitness.values)\n",
        "    stats.register(\"avg\", np.mean)\n",
        "    stats.register(\"std\", np.std)\n",
        "    stats.register(\"min\", np.min)\n",
        "    stats.register(\"max\", np.max)\n",
        "\n",
        "    # Hall of Fame para guardar los mejores individuos\n",
        "    hof = tools.HallOfFame(1)\n",
        "\n",
        "    # Ejecutar el algoritmo genético por 3 generaciones\n",
        "    print(\"Iniciando algoritmo genético...\\n\")\n",
        "    result = algorithms.eaSimple(population, toolbox, cxpb=0.5, mutpb=0.2, ngen=5, stats=stats, halloffame=hof, verbose=True)\n",
        "\n",
        "    # Mostrar el mejor individuo\n",
        "    print(\"\\nMejor individuo encontrado:\", hof[0])\n",
        "    print(\"Fitness del mejor individuo:\", hof[0].fitness.values[0])\n",
        "\n",
        "    # Mostrar resumen estadístico\n",
        "    print(\"\\nResumen estadístico por generación:\")\n",
        "    for gen, log in enumerate(result[1]):\n",
        "        print(f\"Generación {gen + 1}: Promedio = {log['avg']}, Mejor = {log['max']}\")\n",
        "\n",
        "run_ga()\n"
      ],
      "metadata": {
        "colab": {
          "base_uri": "https://localhost:8080/"
        },
        "id": "9aqA_rK0imSL",
        "outputId": "65f4c50e-936e-4bab-a269-2708daaa1c3b"
      },
      "execution_count": 6,
      "outputs": [
        {
          "output_type": "stream",
          "name": "stdout",
          "text": [
            "Iniciando algoritmo genético...\n",
            "\n",
            "gen\tnevals\tavg    \tstd    \tmin\tmax  \n",
            "0  \t10    \t13184.3\t26176.2\t0  \t65535\n",
            "1  \t4     \t2.47812e+09\t7.43414e+09\t15 \t2.47805e+10\n",
            "2  \t7     \t9.39101e+09\t2.12388e+10\t28192.5\t6.91283e+10\n",
            "3  \t5     \t1.8885e+10 \t2.63759e+10\t65535  \t6.91283e+10\n",
            "4  \t6     \t5.46216e+10\t2.52507e+10\t4.83979e+07\t7.70317e+10\n",
            "5  \t5     \t6.53737e+10\t2.20653e+10\t4.83979e+07\t7.70317e+10\n",
            "\n",
            "Mejor individuo encontrado: [6.627372060315224]\n",
            "Fitness del mejor individuo: 77031696687.59828\n",
            "\n",
            "Resumen estadístico por generación:\n",
            "Generación 1: Promedio = 13184.3, Mejor = 65535.0\n",
            "Generación 2: Promedio = 2478124468.5480804, Mejor = 24780540785.55872\n",
            "Generación 3: Promedio = 9391007162.38507, Mejor = 69128295188.49797\n",
            "Generación 4: Promedio = 18885026475.535004, Mejor = 69128295188.49797\n",
            "Generación 5: Promedio = 54621568412.08329, Mejor = 77031696687.59828\n",
            "Generación 6: Promedio = 65373722754.57212, Mejor = 77031696687.59828\n"
          ]
        }
      ]
    },
    {
      "cell_type": "markdown",
      "source": [
        "b.      Sin el uso de DEAP"
      ],
      "metadata": {
        "id": "wgwdysNQrLQj"
      }
    },
    {
      "cell_type": "code",
      "source": [
        "import random\n",
        "\n",
        "# 1. Definir la función objetivo f(x) = (x^(2*x)) - 1\n",
        "def eval_function(x):\n",
        "    return (x**(2 * x)) - 1\n",
        "\n",
        "# 2. Inicialización de la población\n",
        "def init_population(size, lower_bound, upper_bound):\n",
        "    population = [random.randint(lower_bound, upper_bound) for _ in range(size)]\n",
        "    return population\n",
        "\n",
        "# 3. Selección por torneo (escoge al mejor de un grupo aleatorio)\n",
        "def tournament_selection(population, fitnesses, k=3):\n",
        "    selected = random.sample(list(zip(population, fitnesses)), k)\n",
        "    return max(selected, key=lambda ind_fit: ind_fit[1])[0]\n",
        "\n",
        "# 4. Cruce (mezcla de genes de dos padres)\n",
        "def crossover(parent1, parent2):\n",
        "    alpha = 0.5\n",
        "    return int(alpha * parent1 + (1 - alpha) * parent2)\n",
        "\n",
        "# 5. Mutación (modificar el individuo ligeramente)\n",
        "def mutate(individual, mutation_rate=0.1, lower_bound=0, upper_bound=10):\n",
        "    if random.random() < mutation_rate:\n",
        "        return random.randint(lower_bound, upper_bound)\n",
        "    return individual\n",
        "\n",
        "# 6. Algoritmo Genético\n",
        "def genetic_algorithm(generations=3, population_size=10, lower_bound=0, upper_bound=5):\n",
        "    # Inicializar población\n",
        "    population = init_population(population_size, lower_bound, upper_bound)\n",
        "\n",
        "    # Iterar a través de generaciones\n",
        "    for gen in range(generations):\n",
        "        print(f\"\\nGeneración {gen + 1}\")\n",
        "\n",
        "        # Evaluar aptitud de cada individuo\n",
        "        fitnesses = [eval_function(ind) for ind in population]\n",
        "\n",
        "        # Mostrar la población y sus aptitudes\n",
        "        for i, (ind, fit) in enumerate(zip(population, fitnesses)):\n",
        "            print(f\"Individuo {i + 1}: {ind}, Fitness: {fit}\")\n",
        "\n",
        "        # Crear la nueva población\n",
        "        new_population = []\n",
        "        for _ in range(population_size // 2):\n",
        "            # Seleccionar dos padres mediante torneo\n",
        "            parent1 = tournament_selection(population, fitnesses)\n",
        "            parent2 = tournament_selection(population, fitnesses)\n",
        "\n",
        "            # Cruzar padres para crear descendencia\n",
        "            child1 = crossover(parent1, parent2)\n",
        "            child2 = crossover(parent2, parent1)\n",
        "\n",
        "            # Mutar descendencia\n",
        "            child1 = mutate(child1)\n",
        "            child2 = mutate(child2)\n",
        "\n",
        "            new_population.extend([child1, child2])\n",
        "\n",
        "        # Reemplazar la población anterior con la nueva\n",
        "        population = new_population\n",
        "\n",
        "    # Evaluación final de la última generación\n",
        "    final_fitnesses = [eval_function(ind) for ind in population]\n",
        "    best_individual = population[final_fitnesses.index(max(final_fitnesses))]\n",
        "    print(f\"\\nMejor individuo: {best_individual} con fitness: {max(final_fitnesses)}\")\n",
        "\n",
        "# Ejecutar el algoritmo genético\n",
        "genetic_algorithm()\n"
      ],
      "metadata": {
        "colab": {
          "base_uri": "https://localhost:8080/"
        },
        "id": "ZK2Snd0KyKaO",
        "outputId": "449fd990-305c-4697-d810-0d4a962119fa"
      },
      "execution_count": 5,
      "outputs": [
        {
          "output_type": "stream",
          "name": "stdout",
          "text": [
            "\n",
            "Generación 1\n",
            "Individuo 1: 3, Fitness: 728\n",
            "Individuo 2: 0, Fitness: 0\n",
            "Individuo 3: 1, Fitness: 0\n",
            "Individuo 4: 5, Fitness: 9765624\n",
            "Individuo 5: 2, Fitness: 15\n",
            "Individuo 6: 1, Fitness: 0\n",
            "Individuo 7: 5, Fitness: 9765624\n",
            "Individuo 8: 5, Fitness: 9765624\n",
            "Individuo 9: 2, Fitness: 15\n",
            "Individuo 10: 2, Fitness: 15\n",
            "\n",
            "Generación 2\n",
            "Individuo 1: 3, Fitness: 728\n",
            "Individuo 2: 3, Fitness: 728\n",
            "Individuo 3: 3, Fitness: 728\n",
            "Individuo 4: 3, Fitness: 728\n",
            "Individuo 5: 7, Fitness: 678223072848\n",
            "Individuo 6: 0, Fitness: 0\n",
            "Individuo 7: 3, Fitness: 728\n",
            "Individuo 8: 7, Fitness: 678223072848\n",
            "Individuo 9: 2, Fitness: 15\n",
            "Individuo 10: 1, Fitness: 0\n",
            "\n",
            "Generación 3\n",
            "Individuo 1: 5, Fitness: 9765624\n",
            "Individuo 2: 5, Fitness: 9765624\n",
            "Individuo 3: 5, Fitness: 9765624\n",
            "Individuo 4: 5, Fitness: 9765624\n",
            "Individuo 5: 3, Fitness: 728\n",
            "Individuo 6: 3, Fitness: 728\n",
            "Individuo 7: 5, Fitness: 9765624\n",
            "Individuo 8: 5, Fitness: 9765624\n",
            "Individuo 9: 5, Fitness: 9765624\n",
            "Individuo 10: 5, Fitness: 9765624\n",
            "\n",
            "Mejor individuo: 5 con fitness: 9765624\n"
          ]
        }
      ]
    },
    {
      "cell_type": "code",
      "source": [
        "import random\n",
        "import numpy as np\n",
        "\n",
        "# Definir la función objetivo f(x) = (x^(2*x)) - 1\n",
        "def evalFunction(x):\n",
        "    if x > 0:\n",
        "        return (x ** (2 * x)) - 1\n",
        "    else:\n",
        "        return float('inf')  # Penalización para valores no válidos\n",
        "\n",
        "# Generar una población inicial\n",
        "def create_population(size, min_val, max_val):\n",
        "    return [random.randint(min_val, max_val) for _ in range(size)]\n",
        "\n",
        "# Selección por torneo\n",
        "def tournament_selection(population, fitnesses, k=3):\n",
        "    selected = []\n",
        "    for _ in range(len(population)):\n",
        "        aspirants = random.sample(list(zip(population, fitnesses)), k)\n",
        "        selected.append(min(aspirants, key=lambda ind: ind[1])[0])\n",
        "    return selected\n",
        "\n",
        "# Cruce de dos puntos\n",
        "def crossover(parent1, parent2):\n",
        "    if random.random() < 0.5:\n",
        "        return parent1, parent2  # Sin cruce\n",
        "    return (parent1 + parent2) // 2, (parent1 + parent2) // 2\n",
        "\n",
        "# Mutación gaussiana\n",
        "def mutate(individual, mutation_rate=0.2):\n",
        "    if random.random() < mutation_rate:\n",
        "        return individual + int(random.gauss(0, 1))\n",
        "    return individual\n",
        "\n",
        "# Ejecutar el algoritmo genético\n",
        "def genetic_algorithm(pop_size=10, generations=3, min_val=1, max_val=10):\n",
        "    population = create_population(pop_size, min_val, max_val)\n",
        "\n",
        "    for gen in range(generations):\n",
        "        # Evaluar la aptitud de la población\n",
        "        fitnesses = [evalFunction(ind) for ind in population]\n",
        "\n",
        "        print(f\"Generación {gen}, Mejor Fitness: {min(fitnesses)}\")\n",
        "\n",
        "        # Selección\n",
        "        selected = tournament_selection(population, fitnesses)\n",
        "\n",
        "        # Cruce y mutación\n",
        "        offspring = []\n",
        "        for i in range(0, len(selected), 2):\n",
        "            if i + 1 < len(selected):\n",
        "                child1, child2 = crossover(selected[i], selected[i + 1])\n",
        "                offspring.append(mutate(child1))\n",
        "                offspring.append(mutate(child2))\n",
        "\n",
        "        population = offspring\n",
        "\n",
        "    # Mejor individuo\n",
        "    final_fitnesses = [evalFunction(ind) for ind in population]\n",
        "    best_individual = population[np.argmin(final_fitnesses)]\n",
        "    print(f\"Mejor individuo final: {best_individual}, Fitness: {min(final_fitnesses)}\")\n",
        "\n",
        "if __name__ == \"__main__\":\n",
        "    genetic_algorithm()\n"
      ],
      "metadata": {
        "colab": {
          "base_uri": "https://localhost:8080/"
        },
        "id": "9d3tmqGppk7L",
        "outputId": "6c0cddff-229f-4ab1-95c4-8f0883dbd25c"
      },
      "execution_count": 13,
      "outputs": [
        {
          "output_type": "stream",
          "name": "stdout",
          "text": [
            "Generación 0, Mejor Fitness: 0\n",
            "Generación 1, Mejor Fitness: 0\n",
            "Generación 2, Mejor Fitness: 0\n",
            "Mejor individuo final: 1, Fitness: 0\n"
          ]
        }
      ]
    }
  ]
}