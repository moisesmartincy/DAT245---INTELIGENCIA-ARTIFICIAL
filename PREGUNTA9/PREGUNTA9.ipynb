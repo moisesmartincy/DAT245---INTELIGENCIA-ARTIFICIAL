{
  "nbformat": 4,
  "nbformat_minor": 0,
  "metadata": {
    "colab": {
      "provenance": []
    },
    "kernelspec": {
      "name": "python3",
      "display_name": "Python 3"
    },
    "language_info": {
      "name": "python"
    }
  },
  "cells": [
    {
      "cell_type": "markdown",
      "source": [
        "#PREGUNTA 9"
      ],
      "metadata": {
        "id": "hdIKZlR9C_0P"
      }
    },
    {
      "cell_type": "markdown",
      "source": [
        "Usted se escapara al campo luego del examen de IA, deberá llevar varios artículos que no ingresan a su mochila. ¿Cómo optimizaría este problema permitiendo llevar la mayor cantidad de articulos?<br>\n"
      ],
      "metadata": {
        "id": "fI4JCT6iDByG"
      }
    },
    {
      "cell_type": "markdown",
      "source": [
        "El problema que describes se asemeja al clásico Problema de la Mochila (Knapsack Problem) en teoría de la computación y optimización combinatoria. En este problema, se busca maximizar el valor total de los artículos que se pueden llevar en una mochila, considerando un límite de peso (o volumen).\n",
        "\n",
        "Para optimizar el problema de llevar la mayor cantidad de artículos en tu mochila, aquí hay algunos pasos y enfoques que puedes seguir:\n",
        "\n",
        "El problema de optimización para llevar la mayor cantidad de artículos en una mochila se puede abordar eficazmente con métodos de programación dinámica o algoritmos voraces, dependiendo de las especificaciones del problema. Implementar uno de estos enfoques te permitirá maximizar el valor de los artículos que puedes llevar al campo."
      ],
      "metadata": {
        "id": "uAzEwhaOUyoQ"
      }
    },
    {
      "cell_type": "code",
      "source": [
        "# Definición de los artículos\n",
        "articulos = [\n",
        "    {'nombre': 'CUADERNO 1', 'peso': 2, 'valor': 3},\n",
        "    {'nombre': 'LIBROS 2', 'peso': 3, 'valor': 4},\n",
        "    {'nombre': 'LAPTOP 3', 'peso': 10, 'valor': 9},\n",
        "    {'nombre': 'BOLIGRAFOS 4', 'peso': 5, 'valor': 6},\n",
        "]\n",
        "\n",
        "def knapsack(articulos, capacidad):\n",
        "    n = len(articulos)\n",
        "    # Crear una tabla para almacenar el valor máximo para cada capacidad\n",
        "    dp = [[0 for _ in range(capacidad + 1)] for _ in range(n + 1)]\n",
        "\n",
        "    # Llenar la tabla de DP\n",
        "    for i in range(1, n + 1):\n",
        "        for w in range(1, capacidad + 1):\n",
        "            if articulos[i - 1]['peso'] <= w:\n",
        "                dp[i][w] = max(dp[i - 1][w], dp[i - 1][w - articulos[i - 1]['peso']] + articulos[i - 1]['valor'])\n",
        "            else:\n",
        "                dp[i][w] = dp[i - 1][w]\n",
        "\n",
        "    # Recuperar los artículos seleccionadosQ\n",
        "    resultado = []\n",
        "    w = capacidad\n",
        "    for i in range(n, 0, -1):\n",
        "        if dp[i][w] != dp[i - 1][w]:  # Significa que el artículo i fue incluido\n",
        "            resultado.append(articulos[i - 1])\n",
        "            w -= articulos[i - 1]['peso']\n",
        "\n",
        "    return dp[n][capacidad], resultado\n",
        "\n",
        "# Definir la capacidad de la mochila\n",
        "capacidad_mochila = 20\n",
        "valor_maximo, articulos_seleccionados = knapsack(articulos, capacidad_mochila)\n",
        "\n",
        "# Imprimir resultados\n",
        "print(f'El valor máximo que se puede llevar es: {valor_maximo}')\n",
        "print('Artículos seleccionados:')\n",
        "for articulo in articulos_seleccionados:\n",
        "    print(f\"{articulo['nombre']} - Peso: {articulo['peso']}, Valor: {articulo['valor']}\")\n"
      ],
      "metadata": {
        "colab": {
          "base_uri": "https://localhost:8080/"
        },
        "id": "0ZXlZwgRDIiH",
        "outputId": "7add3319-68aa-43c7-bf6a-d2170be68bb1"
      },
      "execution_count": 6,
      "outputs": [
        {
          "output_type": "stream",
          "name": "stdout",
          "text": [
            "El valor máximo que se puede llevar es: 22\n",
            "Artículos seleccionados:\n",
            "BOLIGRAFOS 4 - Peso: 5, Valor: 6\n",
            "LAPTOP 3 - Peso: 10, Valor: 9\n",
            "LIBROS 2 - Peso: 3, Valor: 4\n",
            "CUADERNO 1 - Peso: 2, Valor: 3\n"
          ]
        }
      ]
    }
  ]
}